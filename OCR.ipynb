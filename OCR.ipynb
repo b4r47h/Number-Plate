{
  "cells": [
    {
      "cell_type": "code",
      "execution_count": 41,
      "metadata": {
        "colab": {
          "base_uri": "https://localhost:8080/"
        },
        "id": "hD8TRh0rCSmO",
        "outputId": "c60b9fe5-37e5-4833-fbcc-248ceb569807"
      },
      "outputs": [
        {
          "name": "stdout",
          "output_type": "stream",
          "text": [
            "Requirement already satisfied: easyocr in c:\\users\\8\\.conda\\envs\\number\\lib\\site-packages (1.7.1)\n",
            "Requirement already satisfied: opencv-python-headless in c:\\users\\8\\.conda\\envs\\number\\lib\\site-packages (from easyocr) (4.9.0.80)\n",
            "Requirement already satisfied: PyYAML in c:\\users\\8\\.conda\\envs\\number\\lib\\site-packages (from easyocr) (6.0.1)\n",
            "Requirement already satisfied: scikit-image in c:\\users\\8\\.conda\\envs\\number\\lib\\site-packages (from easyocr) (0.19.3)\n",
            "Requirement already satisfied: python-bidi in c:\\users\\8\\.conda\\envs\\number\\lib\\site-packages (from easyocr) (0.4.2)\n",
            "Requirement already satisfied: pyclipper in c:\\users\\8\\.conda\\envs\\number\\lib\\site-packages (from easyocr) (1.3.0.post5)\n",
            "Requirement already satisfied: ninja in c:\\users\\8\\.conda\\envs\\number\\lib\\site-packages (from easyocr) (1.11.1.1)\n",
            "Requirement already satisfied: torch in c:\\users\\8\\.conda\\envs\\number\\lib\\site-packages (from easyocr) (1.13.1)\n",
            "Requirement already satisfied: torchvision>=0.5 in c:\\users\\8\\.conda\\envs\\number\\lib\\site-packages (from easyocr) (0.14.1)\n",
            "Requirement already satisfied: scipy in c:\\users\\8\\.conda\\envs\\number\\lib\\site-packages (from easyocr) (1.7.3)\n",
            "Requirement already satisfied: numpy in c:\\users\\8\\.conda\\envs\\number\\lib\\site-packages (from easyocr) (1.21.6)\n",
            "Requirement already satisfied: Pillow in c:\\users\\8\\.conda\\envs\\number\\lib\\site-packages (from easyocr) (9.5.0)\n",
            "Requirement already satisfied: Shapely in c:\\users\\8\\.conda\\envs\\number\\lib\\site-packages (from easyocr) (2.0.3)\n",
            "Requirement already satisfied: requests in c:\\users\\8\\.conda\\envs\\number\\lib\\site-packages (from torchvision>=0.5->easyocr) (2.31.0)\n",
            "Requirement already satisfied: typing-extensions in c:\\users\\8\\.conda\\envs\\number\\lib\\site-packages (from torchvision>=0.5->easyocr) (4.7.1)\n",
            "Requirement already satisfied: six in c:\\users\\8\\.conda\\envs\\number\\lib\\site-packages (from python-bidi->easyocr) (1.16.0)\n",
            "Requirement already satisfied: PyWavelets>=1.1.1 in c:\\users\\8\\.conda\\envs\\number\\lib\\site-packages (from scikit-image->easyocr) (1.3.0)\n",
            "Requirement already satisfied: packaging>=20.0 in c:\\users\\8\\.conda\\envs\\number\\lib\\site-packages (from scikit-image->easyocr) (23.2)\n",
            "Requirement already satisfied: networkx>=2.2 in c:\\users\\8\\.conda\\envs\\number\\lib\\site-packages (from scikit-image->easyocr) (2.6.3)\n",
            "Requirement already satisfied: tifffile>=2019.7.26 in c:\\users\\8\\.conda\\envs\\number\\lib\\site-packages (from scikit-image->easyocr) (2021.11.2)\n",
            "Requirement already satisfied: imageio>=2.4.1 in c:\\users\\8\\.conda\\envs\\number\\lib\\site-packages (from scikit-image->easyocr) (2.31.2)\n",
            "Requirement already satisfied: idna<4,>=2.5 in c:\\users\\8\\.conda\\envs\\number\\lib\\site-packages (from requests->torchvision>=0.5->easyocr) (3.6)\n",
            "Requirement already satisfied: urllib3<3,>=1.21.1 in c:\\users\\8\\.conda\\envs\\number\\lib\\site-packages (from requests->torchvision>=0.5->easyocr) (2.0.7)\n",
            "Requirement already satisfied: charset-normalizer<4,>=2 in c:\\users\\8\\.conda\\envs\\number\\lib\\site-packages (from requests->torchvision>=0.5->easyocr) (3.3.2)\n",
            "Requirement already satisfied: certifi>=2017.4.17 in c:\\users\\8\\.conda\\envs\\number\\lib\\site-packages (from requests->torchvision>=0.5->easyocr) (2022.12.7)\n"
          ]
        }
      ],
      "source": [
        "!pip install easyocr"
      ]
    },
    {
      "cell_type": "code",
      "execution_count": 42,
      "metadata": {
        "id": "6wKgPU52CZ6K"
      },
      "outputs": [],
      "source": [
        "import matplotlib.pyplot as plt\n",
        "import cv2\n",
        "import easyocr\n",
        "from IPython.display import Image"
      ]
    },
    {
      "cell_type": "code",
      "execution_count": 43,
      "metadata": {
        "colab": {
          "base_uri": "https://localhost:8080/",
          "height": 65
        },
        "id": "hxBLiy0AChPp",
        "outputId": "6f8e0eb9-eeaf-4561-dd16-50689139a125"
      },
      "outputs": [
        {
          "data": {
            "image/jpeg": "[encoded data removed]",
            "text/plain": [
              "<IPython.core.display.Image object>"
            ]
          },
          "execution_count": 43,
          "metadata": {},
          "output_type": "execute_result"
        }
      ],
      "source": [
        "Image(\"plates\\scanned_img_1.jpg\")"
      ]
    },
    {
      "cell_type": "code",
      "execution_count": null,
      "metadata": {
        "colab": {
          "base_uri": "https://localhost:8080/"
        },
        "id": "ZYD5fu4NCq2U",
        "outputId": "8a9390ef-9bad-443f-88d8-48411a496fc6"
      },
      "outputs": [],
      "source": [
        "\n",
        "reader = easyocr.Reader(['en'])"
      ]
    },
    {
      "cell_type": "code",
      "execution_count": 37,
      "metadata": {
        "id": "ZCHP-450Cl9x"
      },
      "outputs": [],
      "source": [
        "\n",
        "output = reader.readtext('.\\plates\\scanned_img_1.jpg')"
      ]
    },
    {
      "cell_type": "code",
      "execution_count": 19,
      "metadata": {
        "colab": {
          "base_uri": "https://localhost:8080/"
        },
        "id": "Ao44WMNJC_4R",
        "outputId": "4f9bc326-5f01-4871-9388-86c3726df528"
      },
      "outputs": [
        {
          "data": {
            "text/plain": [
              "[([[115, 7], [217, 7], [217, 28], [115, 28]], 'Number', 0.6845757204802653),\n",
              " ([[225, 7], [291, 7], [291, 27], [225, 27]], 'Flate', 0.6593965915730342),\n",
              " ([[156, 54], [376, 54], [376, 104], [156, 104]],\n",
              "  'DL 7C0 1939',\n",
              "  0.9057063144197125)]"
            ]
          },
          "execution_count": 19,
          "metadata": {},
          "output_type": "execute_result"
        }
      ],
      "source": [
        "output"
      ]
    }
  ],
  "metadata": {
    "accelerator": "GPU",
    "colab": {
      "provenance": []
    },
    "kernelspec": {
      "display_name": "Python 3",
      "name": "python3"
    },
    "language_info": {
      "name": "python"
    }
  },
  "nbformat": 4,
  "nbformat_minor": 0
}
